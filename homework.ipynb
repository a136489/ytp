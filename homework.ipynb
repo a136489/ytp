{
 "cells": [
  {
   "cell_type": "code",
   "execution_count": 3,
   "metadata": {
    "collapsed": false,
    "scrolled": false
   },
   "outputs": [
    {
     "name": "stdout",
     "output_type": "stream",
     "text": [
      "1965\n",
      "(75) [討論] 阿宅不懂彭于晏的帥\n"
     ]
    },
    {
     "data": {
      "text/html": [
       "<img src=\"http://i.imgur.com/DraPi6M.jpg\">"
      ],
      "text/plain": [
       "<IPython.core.display.HTML object>"
      ]
     },
     "metadata": {},
     "output_type": "display_data"
    },
    {
     "data": {
      "text/html": [
       "<img src=\"http://i.imgur.com/yekr4cb.jpg\">"
      ],
      "text/plain": [
       "<IPython.core.display.HTML object>"
      ]
     },
     "metadata": {},
     "output_type": "display_data"
    },
    {
     "data": {
      "text/html": [
       "<img src=\"http://i.imgur.com/aR9pndn.jpg\">"
      ],
      "text/plain": [
       "<IPython.core.display.HTML object>"
      ]
     },
     "metadata": {},
     "output_type": "display_data"
    },
    {
     "data": {
      "text/html": [
       "<img src=\"http://i.imgur.com/0plKxMp.jpg\">"
      ],
      "text/plain": [
       "<IPython.core.display.HTML object>"
      ]
     },
     "metadata": {},
     "output_type": "display_data"
    },
    {
     "data": {
      "text/html": [
       "<img src=\"http://i.imgur.com/tJz5Hbs.jpg\">"
      ],
      "text/plain": [
       "<IPython.core.display.HTML object>"
      ]
     },
     "metadata": {},
     "output_type": "display_data"
    },
    {
     "data": {
      "text/html": [
       "<img src=\"http://i.imgur.com/kAoKfls.jpg\">"
      ],
      "text/plain": [
       "<IPython.core.display.HTML object>"
      ]
     },
     "metadata": {},
     "output_type": "display_data"
    },
    {
     "data": {
      "text/html": [
       "<img src=\"http://i.imgur.com/fmeKGoZ.jpg\">"
      ],
      "text/plain": [
       "<IPython.core.display.HTML object>"
      ]
     },
     "metadata": {},
     "output_type": "display_data"
    },
    {
     "data": {
      "text/html": [
       "<img src=\"http://i.imgur.com/4CHdUds.jpg\">"
      ],
      "text/plain": [
       "<IPython.core.display.HTML object>"
      ]
     },
     "metadata": {},
     "output_type": "display_data"
    },
    {
     "data": {
      "text/html": [
       "<img src=\"http://i.imgur.com/FV32VMo.jpg\">"
      ],
      "text/plain": [
       "<IPython.core.display.HTML object>"
      ]
     },
     "metadata": {},
     "output_type": "display_data"
    },
    {
     "name": "stdout",
     "output_type": "stream",
     "text": [
      "(32) [神人] 西門町 熱舞牛仔妹\n"
     ]
    },
    {
     "data": {
      "text/html": [
       "<img src=\"http://i.imgur.com/Ij7c1KE.jpg\">"
      ],
      "text/plain": [
       "<IPython.core.display.HTML object>"
      ]
     },
     "metadata": {},
     "output_type": "display_data"
    },
    {
     "data": {
      "text/html": [
       "<img src=\"http://i.imgur.com/gbG45Ru.jpg\">"
      ],
      "text/plain": [
       "<IPython.core.display.HTML object>"
      ]
     },
     "metadata": {},
     "output_type": "display_data"
    },
    {
     "name": "stdout",
     "output_type": "stream",
     "text": [
      "(57) [正妹] 輔仁大傳 清秀正妹\n"
     ]
    },
    {
     "data": {
      "text/html": [
       "<img src=\"http://i.imgur.com/8PHtdW0.jpg\">"
      ],
      "text/plain": [
       "<IPython.core.display.HTML object>"
      ]
     },
     "metadata": {},
     "output_type": "display_data"
    },
    {
     "data": {
      "text/html": [
       "<img src=\"http://i.imgur.com/6LQIcx9.jpg\">"
      ],
      "text/plain": [
       "<IPython.core.display.HTML object>"
      ]
     },
     "metadata": {},
     "output_type": "display_data"
    },
    {
     "data": {
      "text/html": [
       "<img src=\"http://i.imgur.com/8cvypJq.jpg\">"
      ],
      "text/plain": [
       "<IPython.core.display.HTML object>"
      ]
     },
     "metadata": {},
     "output_type": "display_data"
    },
    {
     "data": {
      "text/html": [
       "<img src=\"http://i.imgur.com/mpezXED.jpg\">"
      ],
      "text/plain": [
       "<IPython.core.display.HTML object>"
      ]
     },
     "metadata": {},
     "output_type": "display_data"
    },
    {
     "data": {
      "text/html": [
       "<img src=\"http://i.imgur.com/t9zwxuX.jpg\">"
      ],
      "text/plain": [
       "<IPython.core.display.HTML object>"
      ]
     },
     "metadata": {},
     "output_type": "display_data"
    },
    {
     "data": {
      "text/html": [
       "<img src=\"http://i.imgur.com/LesyLIo.jpg\">"
      ],
      "text/plain": [
       "<IPython.core.display.HTML object>"
      ]
     },
     "metadata": {},
     "output_type": "display_data"
    },
    {
     "data": {
      "text/html": [
       "<img src=\"http://i.imgur.com/sbMEyst.jpg\">"
      ],
      "text/plain": [
       "<IPython.core.display.HTML object>"
      ]
     },
     "metadata": {},
     "output_type": "display_data"
    },
    {
     "data": {
      "text/html": [
       "<img src=\"http://i.imgur.com/jPtmz3j.jpg\">"
      ],
      "text/plain": [
       "<IPython.core.display.HTML object>"
      ]
     },
     "metadata": {},
     "output_type": "display_data"
    },
    {
     "data": {
      "text/html": [
       "<img src=\"http://i.imgur.com/4L7mDLJ.jpg\">"
      ],
      "text/plain": [
       "<IPython.core.display.HTML object>"
      ]
     },
     "metadata": {},
     "output_type": "display_data"
    },
    {
     "data": {
      "text/html": [
       "<img src=\"http://i.imgur.com/9UIVmpk.jpg\">"
      ],
      "text/plain": [
       "<IPython.core.display.HTML object>"
      ]
     },
     "metadata": {},
     "output_type": "display_data"
    },
    {
     "data": {
      "text/html": [
       "<img src=\"http://i.imgur.com/gFRtkzM.jpg\">"
      ],
      "text/plain": [
       "<IPython.core.display.HTML object>"
      ]
     },
     "metadata": {},
     "output_type": "display_data"
    },
    {
     "data": {
      "text/html": [
       "<img src=\"http://i.imgur.com/ZBS004b.jpg\">"
      ],
      "text/plain": [
       "<IPython.core.display.HTML object>"
      ]
     },
     "metadata": {},
     "output_type": "display_data"
    },
    {
     "data": {
      "text/html": [
       "<img src=\"http://i.imgur.com/6hVahmv.jpg\">"
      ],
      "text/plain": [
       "<IPython.core.display.HTML object>"
      ]
     },
     "metadata": {},
     "output_type": "display_data"
    },
    {
     "data": {
      "text/html": [
       "<img src=\"http://i.imgur.com/BcDNtb9.jpg\">"
      ],
      "text/plain": [
       "<IPython.core.display.HTML object>"
      ]
     },
     "metadata": {},
     "output_type": "display_data"
    },
    {
     "data": {
      "text/html": [
       "<img src=\"http://i.imgur.com/PsjNssK.jpg\">"
      ],
      "text/plain": [
       "<IPython.core.display.HTML object>"
      ]
     },
     "metadata": {},
     "output_type": "display_data"
    },
    {
     "data": {
      "text/html": [
       "<img src=\"http://i.imgur.com/9qc1hSM.jpg\">"
      ],
      "text/plain": [
       "<IPython.core.display.HTML object>"
      ]
     },
     "metadata": {},
     "output_type": "display_data"
    },
    {
     "name": "stdout",
     "output_type": "stream",
     "text": [
      "1964\n",
      "(74) [正妹] 長髮大眼睛\n"
     ]
    },
    {
     "data": {
      "text/html": [
       "<img src=\"http://i.imgur.com/6immjNS.jpg\">"
      ],
      "text/plain": [
       "<IPython.core.display.HTML object>"
      ]
     },
     "metadata": {},
     "output_type": "display_data"
    },
    {
     "data": {
      "text/html": [
       "<img src=\"http://i.imgur.com/uLR2jAo.jpg\">"
      ],
      "text/plain": [
       "<IPython.core.display.HTML object>"
      ]
     },
     "metadata": {},
     "output_type": "display_data"
    },
    {
     "data": {
      "text/html": [
       "<img src=\"http://i.imgur.com/Wr2H2yi.jpg\">"
      ],
      "text/plain": [
       "<IPython.core.display.HTML object>"
      ]
     },
     "metadata": {},
     "output_type": "display_data"
    },
    {
     "data": {
      "text/html": [
       "<img src=\"http://i.imgur.com/xk8druZ.jpg\">"
      ],
      "text/plain": [
       "<IPython.core.display.HTML object>"
      ]
     },
     "metadata": {},
     "output_type": "display_data"
    },
    {
     "name": "stdout",
     "output_type": "stream",
     "text": [
      "(32) [正妹] 長髮黑絲 第一一五彈\n"
     ]
    },
    {
     "data": {
      "text/html": [
       "<img src=\"http://i.imgur.com/Auujp7s.jpg\">"
      ],
      "text/plain": [
       "<IPython.core.display.HTML object>"
      ]
     },
     "metadata": {},
     "output_type": "display_data"
    },
    {
     "data": {
      "text/html": [
       "<img src=\"http://i.imgur.com/1SQRwhe.jpg\">"
      ],
      "text/plain": [
       "<IPython.core.display.HTML object>"
      ]
     },
     "metadata": {},
     "output_type": "display_data"
    },
    {
     "data": {
      "text/html": [
       "<img src=\"http://i.imgur.com/0Q531YL.jpg\">"
      ],
      "text/plain": [
       "<IPython.core.display.HTML object>"
      ]
     },
     "metadata": {},
     "output_type": "display_data"
    },
    {
     "data": {
      "text/html": [
       "<img src=\"http://i.imgur.com/f8KOY4s.jpg\">"
      ],
      "text/plain": [
       "<IPython.core.display.HTML object>"
      ]
     },
     "metadata": {},
     "output_type": "display_data"
    },
    {
     "data": {
      "text/html": [
       "<img src=\"http://i.imgur.com/UMTlpqc.jpg\">"
      ],
      "text/plain": [
       "<IPython.core.display.HTML object>"
      ]
     },
     "metadata": {},
     "output_type": "display_data"
    },
    {
     "data": {
      "text/html": [
       "<img src=\"http://i.imgur.com/JQoDyWb.jpg\">"
      ],
      "text/plain": [
       "<IPython.core.display.HTML object>"
      ]
     },
     "metadata": {},
     "output_type": "display_data"
    },
    {
     "data": {
      "text/html": [
       "<img src=\"http://i.imgur.com/jQ7r6KF.jpg\">"
      ],
      "text/plain": [
       "<IPython.core.display.HTML object>"
      ]
     },
     "metadata": {},
     "output_type": "display_data"
    }
   ],
   "source": [
    "import requests\n",
    "import os\n",
    "import urllib\n",
    "import pandas as pd\n",
    "from IPython.display import Image, HTML, display\n",
    "from lxml import etree\n",
    "\n",
    "\n",
    "def get_current_page_number():\n",
    "    url = 'https://www.ptt.cc/bbs/Beauty/index.html'\n",
    "    res = requests.get(url)\n",
    "    root = etree.fromstring(res.content, etree.HTMLParser())\n",
    "    \n",
    "    prev_page_link = root.xpath('//div[@class=\"action-bar\"]/div[2]/a[2]/@href')[0]\n",
    "    return int(prev_page_link[prev_page_link.find('index')+5:prev_page_link.find('.html')]) + 1\n",
    "\n",
    "# get all photos of an artical\n",
    "def get_one_page(url, lowest):\n",
    "    urllist = {}\n",
    "    \n",
    "    res = requests.get(url)\n",
    "    res.encoding = 'utf-8'\n",
    "    \n",
    "    root = etree.fromstring(res.content, etree.HTMLParser())\n",
    "    \n",
    "    push_num_select = '//div[@class=\"r-ent\"][div[@class=\"title\"]/a/text() != 0]/div[@class=\"nrec\"]/span/text()'\n",
    "    title_select = '//div[@class=\"r-ent\"][div[@class=\"nrec\"]/span/text() != 0]/div[@class=\"title\"]/a/text()'\n",
    "    link_select = '//div[@class=\"r-ent\"][div[@class=\"nrec\"]/span/text() != 0]/div[@class=\"title\"]/a/@href'\n",
    "\n",
    "    for push, title, link in zip(root.xpath(push_num_select), root.xpath(title_select), root.xpath(link_select)):\n",
    "        if (push.isdigit() and int(push) >= lowest) or (~push.isdigit() and push == u'爆'):\n",
    "            if title[1:3] != u'公告':\n",
    "                urllist[u'('+push+u') '+title] = [link]\n",
    "            \n",
    "    imgData = {}\n",
    "    for i in urllist:\n",
    "        imgData[i] = []\n",
    "        turl = 'https://www.ptt.cc' + urllist[i][0]\n",
    "        tres = requests.get(turl)\n",
    "        \n",
    "        troot = etree.fromstring(tres.content, etree.HTMLParser())\n",
    "        \n",
    "        x = [str(src) for src in troot.xpath('//div[@class=\"richcontent\"]/img/@src')]\n",
    "        urllist[i].append(x)\n",
    "    for i in urllist:\n",
    "        print i\n",
    "#         if you don't have this album\n",
    "        try:\n",
    "            os.mkdir(i.encode('utf-8'))\n",
    "            for img in urllist[i][1]:\n",
    "                urllib.urlretrieve('http:%s' % img, '%s/%s' %(i, urllist[i][1].index(img)))\n",
    "                display(HTML('<img src=\"http:%s\">' % img))\n",
    "#         if you already have this album\n",
    "        except:\n",
    "            for img in urllist[i][1]:\n",
    "                display(HTML('<img src=\"http:%s\">' % img))\n",
    "\n",
    "\n",
    "def get_Beauty(page_range, lowest):\n",
    "    current_page_number = get_current_page_number()\n",
    "#     get photo from page N-k to page N. N and K represents current(latest) page and the number of page you want respectively \n",
    "    for i in range(current_page_number, current_page_number-page_range, -1):\n",
    "        print i\n",
    "        current_page = 'https://www.ptt.cc/bbs/Beauty/index' + str(i) + '.html'\n",
    "        get_one_page(current_page, lowest)\n",
    "\n",
    "# getBeauty(page_number, push_lowest_bound)\n",
    "get_Beauty(2, 30)"
   ]
  }
 ],
 "metadata": {
  "kernelspec": {
   "display_name": "Python 2",
   "language": "python",
   "name": "python2"
  },
  "language_info": {
   "codemirror_mode": {
    "name": "ipython",
    "version": 2
   },
   "file_extension": ".py",
   "mimetype": "text/x-python",
   "name": "python",
   "nbconvert_exporter": "python",
   "pygments_lexer": "ipython2",
   "version": "2.7.11"
  }
 },
 "nbformat": 4,
 "nbformat_minor": 0
}
